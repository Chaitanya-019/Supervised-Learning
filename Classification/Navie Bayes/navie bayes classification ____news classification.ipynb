{
 "cells": [
  {
   "cell_type": "code",
   "execution_count": 1,
   "metadata": {},
   "outputs": [],
   "source": [
    "import numpy as np\n",
    "import pandas as pd\n",
    "import matplotlib.pyplot as plt\n",
    "from sklearn.metrics import confusion_matrix,r2_score,accuracy_score\n",
    "from sklearn.model_selection import train_test_split"
   ]
  },
  {
   "cell_type": "code",
   "execution_count": 2,
   "metadata": {},
   "outputs": [],
   "source": [
    "from sklearn.datasets import fetch_20newsgroups"
   ]
  },
  {
   "cell_type": "code",
   "execution_count": 3,
   "metadata": {},
   "outputs": [],
   "source": [
    "from sklearn.preprocessing import StandardScaler\n",
    "from sklearn .decomposition import PCA\n",
    "from sklearn.pipeline  import Pipeline"
   ]
  },
  {
   "cell_type": "code",
   "execution_count": 4,
   "metadata": {},
   "outputs": [],
   "source": [
    "data=fetch_20newsgroups()"
   ]
  },
  {
   "cell_type": "code",
   "execution_count": 5,
   "metadata": {},
   "outputs": [
    {
     "data": {
      "text/plain": [
       "(['alt.atheism',\n",
       "  'comp.graphics',\n",
       "  'comp.os.ms-windows.misc',\n",
       "  'comp.sys.ibm.pc.hardware',\n",
       "  'comp.sys.mac.hardware',\n",
       "  'comp.windows.x',\n",
       "  'misc.forsale',\n",
       "  'rec.autos',\n",
       "  'rec.motorcycles',\n",
       "  'rec.sport.baseball',\n",
       "  'rec.sport.hockey',\n",
       "  'sci.crypt',\n",
       "  'sci.electronics',\n",
       "  'sci.med',\n",
       "  'sci.space',\n",
       "  'soc.religion.christian',\n",
       "  'talk.politics.guns',\n",
       "  'talk.politics.mideast',\n",
       "  'talk.politics.misc',\n",
       "  'talk.religion.misc'],\n",
       " array([7, 4, 4, ..., 3, 1, 8]))"
      ]
     },
     "execution_count": 5,
     "metadata": {},
     "output_type": "execute_result"
    }
   ],
   "source": [
    "data.target_names,data.target"
   ]
  },
  {
   "cell_type": "code",
   "execution_count": 6,
   "metadata": {},
   "outputs": [],
   "source": [
    "x_train,x_test,y_train,y_test=train_test_split(data.data,data.target,train_size=0.8)"
   ]
  },
  {
   "cell_type": "code",
   "execution_count": 7,
   "metadata": {},
   "outputs": [],
   "source": [
    "from sklearn.feature_extraction.text import TfidfVectorizer\n",
    "from sklearn.naive_bayes import MultinomialNB,GaussianNB,BernoulliNB\n",
    "from sklearn.pipeline import make_pipeline"
   ]
  },
  {
   "cell_type": "code",
   "execution_count": 8,
   "metadata": {},
   "outputs": [],
   "source": [
    "nb=make_pipeline(TfidfVectorizer(),MultinomialNB())\n",
    "model1=nb.fit(x_train,y_train)"
   ]
  },
  {
   "cell_type": "code",
   "execution_count": 9,
   "metadata": {},
   "outputs": [
    {
     "data": {
      "text/plain": [
       "0.8510826336721167"
      ]
     },
     "execution_count": 9,
     "metadata": {},
     "output_type": "execute_result"
    }
   ],
   "source": [
    "accuracy_score(y_test,model1.predict(x_test))"
   ]
  },
  {
   "cell_type": "code",
   "execution_count": 10,
   "metadata": {},
   "outputs": [
    {
     "data": {
      "text/plain": [
       "(1926, 2263)"
      ]
     },
     "execution_count": 10,
     "metadata": {},
     "output_type": "execute_result"
    }
   ],
   "source": [
    "confusion_matrix(y_test,model1.predict(x_test)).trace(),(np.sum(confusion_matrix(y_test,model1.predict(x_test))))"
   ]
  },
  {
   "cell_type": "code",
   "execution_count": 11,
   "metadata": {},
   "outputs": [
    {
     "name": "stdout",
     "output_type": "stream",
     "text": [
      "enter string: furu\n"
     ]
    },
    {
     "data": {
      "text/plain": [
       "'rec.motorcycles'"
      ]
     },
     "execution_count": 11,
     "metadata": {},
     "output_type": "execute_result"
    }
   ],
   "source": [
    "def predict_category(s,model=model1):\n",
    "    pred=model.predict([s])\n",
    "    return data.target_names[pred[0]]\n",
    "a=input(\"enter string: \")\n",
    "predict_category(a)"
   ]
  },
  {
   "cell_type": "code",
   "execution_count": 12,
   "metadata": {},
   "outputs": [
    {
     "data": {
      "text/plain": [
       "18"
      ]
     },
     "execution_count": 12,
     "metadata": {},
     "output_type": "execute_result"
    }
   ],
   "source": [
    "model1.predict([\"im the president of INDIA\"])[0]"
   ]
  },
  {
   "cell_type": "code",
   "execution_count": 13,
   "metadata": {},
   "outputs": [],
   "source": [
    "from sklearn.metrics import classification_report,precision_score,recall_score,multilabel_confusion_matrix\n"
   ]
  },
  {
   "cell_type": "code",
   "execution_count": 14,
   "metadata": {},
   "outputs": [
    {
     "data": {
      "text/plain": [
       "'              precision    recall  f1-score   support\\n\\n           0       0.87      0.67      0.76       114\\n           1       0.84      0.74      0.79       109\\n           2       0.88      0.80      0.84       117\\n           3       0.83      0.74      0.78       141\\n           4       0.83      0.88      0.85       104\\n           5       0.92      0.89      0.91       109\\n           6       0.92      0.74      0.82       104\\n           7       0.83      0.92      0.87       110\\n           8       0.89      0.95      0.92       105\\n           9       0.90      0.95      0.92       117\\n          10       0.94      0.98      0.96       132\\n          11       0.79      0.99      0.88       125\\n          12       0.92      0.78      0.84       122\\n          13       0.98      0.90      0.94       118\\n          14       0.88      0.96      0.92       111\\n          15       0.52      0.98      0.68       118\\n          16       0.84      0.98      0.90       115\\n          17       0.95      0.96      0.96       130\\n          18       0.98      0.67      0.80        96\\n          19       1.00      0.21      0.35        66\\n\\n    accuracy                           0.85      2263\\n   macro avg       0.88      0.83      0.84      2263\\nweighted avg       0.87      0.85      0.85      2263\\n'"
      ]
     },
     "execution_count": 14,
     "metadata": {},
     "output_type": "execute_result"
    }
   ],
   "source": [
    "classification_report(y_test,model1.predict(x_test))"
   ]
  },
  {
   "cell_type": "code",
   "execution_count": 15,
   "metadata": {},
   "outputs": [
    {
     "data": {
      "text/plain": [
       "0.8773924110796265"
      ]
     },
     "execution_count": 15,
     "metadata": {},
     "output_type": "execute_result"
    }
   ],
   "source": [
    "precision_score(y_test,model1.predict(x_test),average=\"macro\")"
   ]
  },
  {
   "cell_type": "code",
   "execution_count": 16,
   "metadata": {},
   "outputs": [
    {
     "data": {
      "text/plain": [
       "0.8349579460876685"
      ]
     },
     "execution_count": 16,
     "metadata": {},
     "output_type": "execute_result"
    }
   ],
   "source": [
    "recall_score(y_test,model1.predict(x_test),average=\"macro\")"
   ]
  },
  {
   "cell_type": "code",
   "execution_count": 17,
   "metadata": {},
   "outputs": [],
   "source": [
    "from sklearn.datasets import load_digits\n",
    "data=load_digits()\n",
    "x_train2,x_test2,y_train2,y_test2=train_test_split(data.data,data.target,train_size=0.8)\n",
    "nb=make_pipeline(MultinomialNB())\n",
    "model2=nb.fit(x_train2,y_train2)\n"
   ]
  },
  {
   "cell_type": "code",
   "execution_count": 18,
   "metadata": {},
   "outputs": [
    {
     "data": {
      "text/plain": [
       "0.8861111111111111"
      ]
     },
     "execution_count": 18,
     "metadata": {},
     "output_type": "execute_result"
    }
   ],
   "source": [
    "accuracy_score(y_test2,model2.predict(x_test2))"
   ]
  },
  {
   "cell_type": "markdown",
   "metadata": {},
   "source": [
    "# gaussion model"
   ]
  },
  {
   "cell_type": "code",
   "execution_count": 19,
   "metadata": {},
   "outputs": [
    {
     "data": {
      "text/plain": [
       "0.9027777777777778"
      ]
     },
     "execution_count": 19,
     "metadata": {},
     "output_type": "execute_result"
    }
   ],
   "source": [
    "gb=Pipeline([(\"scaler\",StandardScaler()),(\"p1\",PCA()),(\"gb\",GaussianNB())])\n",
    "model3=gb.fit(x_train2,y_train2)\n",
    "accuracy_score(y_test2,model3.predict(x_test2))"
   ]
  },
  {
   "cell_type": "code",
   "execution_count": 20,
   "metadata": {},
   "outputs": [
    {
     "data": {
      "text/plain": [
       "array([[30,  0,  0,  0,  0,  1,  1,  0,  0,  0],\n",
       "       [ 0, 37,  0,  0,  1,  0,  0,  0,  1,  0],\n",
       "       [ 0,  1, 28,  1,  1,  0,  0,  1,  3,  0],\n",
       "       [ 0,  0,  1, 26,  0,  0,  0,  1,  2,  3],\n",
       "       [ 0,  3,  0,  0, 29,  0,  0,  0,  1,  0],\n",
       "       [ 0,  0,  0,  1,  0, 40,  0,  0,  0,  0],\n",
       "       [ 0,  1,  1,  0,  0,  0, 33,  0,  2,  0],\n",
       "       [ 0,  0,  0,  0,  0,  0,  0, 38,  0,  2],\n",
       "       [ 0,  1,  1,  0,  0,  0,  0,  0, 26,  2],\n",
       "       [ 0,  0,  0,  0,  0,  0,  0,  0,  2, 38]], dtype=int64)"
      ]
     },
     "execution_count": 20,
     "metadata": {},
     "output_type": "execute_result"
    }
   ],
   "source": [
    "confusion_matrix(y_test2,model3.predict(x_test2))"
   ]
  },
  {
   "cell_type": "code",
   "execution_count": 21,
   "metadata": {},
   "outputs": [
    {
     "data": {
      "text/plain": [
       "'              precision    recall  f1-score   support\\n\\n           0       1.00      0.94      0.97        32\\n           1       0.86      0.95      0.90        39\\n           2       0.90      0.80      0.85        35\\n           3       0.93      0.79      0.85        33\\n           4       0.94      0.88      0.91        33\\n           5       0.98      0.98      0.98        41\\n           6       0.97      0.89      0.93        37\\n           7       0.95      0.95      0.95        40\\n           8       0.70      0.87      0.78        30\\n           9       0.84      0.95      0.89        40\\n\\n    accuracy                           0.90       360\\n   macro avg       0.91      0.90      0.90       360\\nweighted avg       0.91      0.90      0.90       360\\n'"
      ]
     },
     "execution_count": 21,
     "metadata": {},
     "output_type": "execute_result"
    }
   ],
   "source": [
    "classification_report(y_test2,model3.predict(x_test2))"
   ]
  },
  {
   "cell_type": "code",
   "execution_count": 22,
   "metadata": {},
   "outputs": [
    {
     "data": {
      "text/plain": [
       "0.9095985866950667"
      ]
     },
     "execution_count": 22,
     "metadata": {},
     "output_type": "execute_result"
    }
   ],
   "source": [
    "precision_score(y_test2,model3.predict(x_test2),average='weighted')"
   ]
  },
  {
   "cell_type": "markdown",
   "metadata": {},
   "source": [
    "# Bernoulli model"
   ]
  },
  {
   "cell_type": "code",
   "execution_count": 23,
   "metadata": {},
   "outputs": [
    {
     "data": {
      "text/plain": [
       "0.8"
      ]
     },
     "execution_count": 23,
     "metadata": {},
     "output_type": "execute_result"
    }
   ],
   "source": [
    "bb=Pipeline([(\"scaler\",StandardScaler()),(\"p1\",PCA()),(\"bb\",BernoulliNB())])\n",
    "model4=bb.fit(x_train2,y_train2)\n",
    "accuracy_score(y_test2,model4.predict(x_test2))"
   ]
  },
  {
   "cell_type": "code",
   "execution_count": 24,
   "metadata": {},
   "outputs": [
    {
     "data": {
      "text/plain": [
       "array([[26,  1,  0,  0,  2,  2,  1,  0,  0,  0],\n",
       "       [ 0, 31,  3,  0,  1,  1,  0,  0,  3,  0],\n",
       "       [ 0,  5, 25,  3,  0,  0,  0,  0,  2,  0],\n",
       "       [ 0,  1,  0, 24,  0,  0,  0,  0,  4,  4],\n",
       "       [ 0,  3,  0,  1, 28,  0,  0,  0,  0,  1],\n",
       "       [ 0,  0,  1,  1,  0, 38,  1,  0,  0,  0],\n",
       "       [ 0,  4,  0,  0,  1,  0, 31,  0,  1,  0],\n",
       "       [ 2,  0,  0,  2,  1,  1,  0, 31,  2,  1],\n",
       "       [ 0,  4,  1,  1,  0,  0,  0,  1, 22,  1],\n",
       "       [ 0,  1,  0,  5,  0,  0,  0,  0,  2, 32]], dtype=int64)"
      ]
     },
     "execution_count": 24,
     "metadata": {},
     "output_type": "execute_result"
    }
   ],
   "source": [
    "confusion_matrix(y_test2,model4.predict(x_test2))"
   ]
  },
  {
   "cell_type": "code",
   "execution_count": 25,
   "metadata": {},
   "outputs": [
    {
     "data": {
      "text/plain": [
       "0.8172861605361605"
      ]
     },
     "execution_count": 25,
     "metadata": {},
     "output_type": "execute_result"
    }
   ],
   "source": [
    "precision_score(y_test2,model4.predict(x_test2),average='weighted')"
   ]
  },
  {
   "cell_type": "code",
   "execution_count": null,
   "metadata": {},
   "outputs": [],
   "source": []
  }
 ],
 "metadata": {
  "kernelspec": {
   "display_name": "Python 3",
   "language": "python",
   "name": "python3"
  },
  "language_info": {
   "codemirror_mode": {
    "name": "ipython",
    "version": 3
   },
   "file_extension": ".py",
   "mimetype": "text/x-python",
   "name": "python",
   "nbconvert_exporter": "python",
   "pygments_lexer": "ipython3",
   "version": "3.7.10"
  }
 },
 "nbformat": 4,
 "nbformat_minor": 2
}
