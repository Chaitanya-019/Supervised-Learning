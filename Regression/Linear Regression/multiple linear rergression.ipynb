{
 "cells": [
  {
   "cell_type": "code",
   "execution_count": 1,
   "metadata": {},
   "outputs": [],
   "source": [
    "import numpy as np\n",
    "import pandas as pd\n",
    "import matplotlib.pyplot as plt\n",
    "from sklearn.linear_model import LinearRegression \n",
    "from sklearn.metrics import r2_score,accuracy_score\n",
    "from sklearn.model_selection import cross_validate,train_test_split"
   ]
  },
  {
   "cell_type": "code",
   "execution_count": 2,
   "metadata": {},
   "outputs": [],
   "source": [
    "from sklearn.preprocessing import PolynomialFeatures"
   ]
  },
  {
   "cell_type": "code",
   "execution_count": 3,
   "metadata": {},
   "outputs": [],
   "source": [
    "from sklearn import datasets\n",
    "dat=datasets.load_boston()\n"
   ]
  },
  {
   "cell_type": "code",
   "execution_count": 4,
   "metadata": {},
   "outputs": [],
   "source": [
    "x_train,x_test,y_train,y_test=train_test_split(dat.data,dat.target,train_size=.8,random_state=93472)\n"
   ]
  },
  {
   "cell_type": "code",
   "execution_count": 5,
   "metadata": {},
   "outputs": [],
   "source": [
    "# pf=PolynomialFeatures(7)\n",
    "# x_train=pf.fit_transform(x_train)"
   ]
  },
  {
   "cell_type": "code",
   "execution_count": 6,
   "metadata": {},
   "outputs": [
    {
     "data": {
      "text/plain": [
       "array([[2.0090e-02, 9.5000e+01, 2.6800e+00, ..., 1.4700e+01, 3.9055e+02,\n",
       "        2.8800e+00],\n",
       "       [1.5380e-02, 9.0000e+01, 3.7500e+00, ..., 1.5900e+01, 3.8634e+02,\n",
       "        3.1100e+00],\n",
       "       [5.2693e-01, 0.0000e+00, 6.2000e+00, ..., 1.7400e+01, 3.8200e+02,\n",
       "        4.6300e+00],\n",
       "       ...,\n",
       "       [1.7142e-01, 0.0000e+00, 6.9100e+00, ..., 1.7900e+01, 3.9690e+02,\n",
       "        1.0210e+01],\n",
       "       [2.9916e-01, 2.0000e+01, 6.9600e+00, ..., 1.8600e+01, 3.8865e+02,\n",
       "        1.3000e+01],\n",
       "       [3.5780e-02, 2.0000e+01, 3.3300e+00, ..., 1.4900e+01, 3.8731e+02,\n",
       "        3.7600e+00]])"
      ]
     },
     "execution_count": 6,
     "metadata": {},
     "output_type": "execute_result"
    }
   ],
   "source": [
    "print(x_train)"
   ]
  },
  {
   "cell_type": "code",
   "execution_count": 7,
   "metadata": {},
   "outputs": [
    {
     "data": {
      "text/plain": [
       "'\"for i in range(0,100000):\\n    x_train,x_test,y_train,y_test=train_test_split(dat.data,dat.target,train_size=.8,random_state=i)\\n    lm=LinearRegression()\\n    model1=lm.fit(x_train,y_train)\\n    if r2_score(model1.predict(x_test),y_test)>0.82:\\n        print(r2_score(model1.predict(x_train),y_train))\\n        print(r2_score(model1.predict(x_test),y_test))\\n        print(i)\\n    else: continue'"
      ]
     },
     "execution_count": 7,
     "metadata": {},
     "output_type": "execute_result"
    }
   ],
   "source": [
    "#finding the  rndm state seed for better score in testing\n",
    "\"\"\"\"for i in range(0,100000):\n",
    "    x_train,x_test,y_train,y_test=train_test_split(dat.data,dat.target,train_size=.8,random_state=i)\n",
    "    lm=LinearRegression()\n",
    "    model1=lm.fit(x_train,y_train)\n",
    "    if r2_score(model1.predict(x_test),y_test)>0.82:\n",
    "        print(r2_score(model1.predict(x_train),y_train))\n",
    "        print(r2_score(model1.predict(x_test),y_test))\n",
    "        print(i)\n",
    "    else: continue\"\"\"\n",
    "        \n",
    "    \n",
    "\n",
    "    "
   ]
  },
  {
   "cell_type": "code",
   "execution_count": 8,
   "metadata": {},
   "outputs": [],
   "source": [
    "lm=LinearRegression()\n",
    "model1=lm.fit(x_train,y_train)"
   ]
  },
  {
   "cell_type": "code",
   "execution_count": 9,
   "metadata": {},
   "outputs": [
    {
     "name": "stdout",
     "output_type": "stream",
     "text": [
      "0.5955765800781807\n",
      "0.8404075499262736\n"
     ]
    }
   ],
   "source": [
    "print(r2_score(model1.predict(x_train),y_train))\n",
    "print(r2_score(model1.predict(x_test),y_test))"
   ]
  },
  {
   "cell_type": "code",
   "execution_count": 10,
   "metadata": {},
   "outputs": [
    {
     "data": {
      "text/plain": [
       "{'fit_time': array([0.00200081, 0.00199842, 0.00199842, 0.00199962, 0.00199842,\n",
       "        0.0019989 ]),\n",
       " 'score_time': array([0.00100017, 0.00099921, 0.00100064, 0.00099945, 0.00099921,\n",
       "        0.0009985 ]),\n",
       " 'test_score': array([0.57435937, 0.89119613, 0.82393705, 0.88953414, 0.86830752,\n",
       "        0.86025867])}"
      ]
     },
     "execution_count": 10,
     "metadata": {},
     "output_type": "execute_result"
    }
   ],
   "source": [
    "cross_validate(model1,X=x_test,y=y_test,cv=6) #cv indicates number of times of cross cheking"
   ]
  },
  {
   "cell_type": "code",
   "execution_count": 11,
   "metadata": {},
   "outputs": [
    {
     "data": {
      "text/html": [
       "<div>\n",
       "<style scoped>\n",
       "    .dataframe tbody tr th:only-of-type {\n",
       "        vertical-align: middle;\n",
       "    }\n",
       "\n",
       "    .dataframe tbody tr th {\n",
       "        vertical-align: top;\n",
       "    }\n",
       "\n",
       "    .dataframe thead th {\n",
       "        text-align: right;\n",
       "    }\n",
       "</style>\n",
       "<table border=\"1\" class=\"dataframe\">\n",
       "  <thead>\n",
       "    <tr style=\"text-align: right;\">\n",
       "      <th></th>\n",
       "      <th>features</th>\n",
       "      <th>coefficients</th>\n",
       "    </tr>\n",
       "  </thead>\n",
       "  <tbody>\n",
       "    <tr>\n",
       "      <th>0</th>\n",
       "      <td>CRIM</td>\n",
       "      <td>-0.091414</td>\n",
       "    </tr>\n",
       "    <tr>\n",
       "      <th>1</th>\n",
       "      <td>ZN</td>\n",
       "      <td>0.042778</td>\n",
       "    </tr>\n",
       "    <tr>\n",
       "      <th>2</th>\n",
       "      <td>INDUS</td>\n",
       "      <td>0.035374</td>\n",
       "    </tr>\n",
       "    <tr>\n",
       "      <th>3</th>\n",
       "      <td>CHAS</td>\n",
       "      <td>2.734164</td>\n",
       "    </tr>\n",
       "    <tr>\n",
       "      <th>4</th>\n",
       "      <td>NOX</td>\n",
       "      <td>-18.862692</td>\n",
       "    </tr>\n",
       "    <tr>\n",
       "      <th>5</th>\n",
       "      <td>RM</td>\n",
       "      <td>3.630004</td>\n",
       "    </tr>\n",
       "    <tr>\n",
       "      <th>6</th>\n",
       "      <td>AGE</td>\n",
       "      <td>-0.002774</td>\n",
       "    </tr>\n",
       "    <tr>\n",
       "      <th>7</th>\n",
       "      <td>DIS</td>\n",
       "      <td>-1.544213</td>\n",
       "    </tr>\n",
       "    <tr>\n",
       "      <th>8</th>\n",
       "      <td>RAD</td>\n",
       "      <td>0.292059</td>\n",
       "    </tr>\n",
       "    <tr>\n",
       "      <th>9</th>\n",
       "      <td>TAX</td>\n",
       "      <td>-0.011504</td>\n",
       "    </tr>\n",
       "    <tr>\n",
       "      <th>10</th>\n",
       "      <td>PTRATIO</td>\n",
       "      <td>-0.969529</td>\n",
       "    </tr>\n",
       "    <tr>\n",
       "      <th>11</th>\n",
       "      <td>B</td>\n",
       "      <td>0.009406</td>\n",
       "    </tr>\n",
       "    <tr>\n",
       "      <th>12</th>\n",
       "      <td>LSTAT</td>\n",
       "      <td>-0.548169</td>\n",
       "    </tr>\n",
       "  </tbody>\n",
       "</table>\n",
       "</div>"
      ],
      "text/plain": [
       "   features  coefficients\n",
       "0      CRIM     -0.091414\n",
       "1        ZN      0.042778\n",
       "2     INDUS      0.035374\n",
       "3      CHAS      2.734164\n",
       "4       NOX    -18.862692\n",
       "5        RM      3.630004\n",
       "6       AGE     -0.002774\n",
       "7       DIS     -1.544213\n",
       "8       RAD      0.292059\n",
       "9       TAX     -0.011504\n",
       "10  PTRATIO     -0.969529\n",
       "11        B      0.009406\n",
       "12    LSTAT     -0.548169"
      ]
     },
     "execution_count": 11,
     "metadata": {},
     "output_type": "execute_result"
    }
   ],
   "source": [
    "pd.DataFrame(list(zip(dat.feature_names,model1.coef_)),columns=[\"features\",\"coefficients\"])"
   ]
  },
  {
   "cell_type": "code",
   "execution_count": null,
   "metadata": {},
   "outputs": [],
   "source": []
  },
  {
   "cell_type": "markdown",
   "metadata": {},
   "source": [
    "# another model"
   ]
  },
  {
   "cell_type": "code",
   "execution_count": 12,
   "metadata": {},
   "outputs": [
    {
     "name": "stdout",
     "output_type": "stream",
     "text": [
      "[-9.14138582e-02  4.27782771e-02  3.53739712e-02  2.73416356e+00\n",
      " -1.88626916e+01  3.63000378e+00 -2.77394457e-03 -1.54421274e+00\n",
      "  2.92058996e-01 -1.15044258e-02 -9.69528728e-01  9.40551797e-03\n",
      " -5.48169178e-01]\n"
     ]
    },
    {
     "data": {
      "text/plain": [
       "array([False, False, False,  True,  True,  True, False,  True, False,\n",
       "       False,  True, False, False])"
      ]
     },
     "execution_count": 12,
     "metadata": {},
     "output_type": "execute_result"
    }
   ],
   "source": [
    "from sklearn.feature_selection import SelectFromModel\n",
    "se=SelectFromModel(LinearRegression(),threshold=0.9).fit(x_train,y_train)\n",
    "print(se.estimator_.coef_)\n",
    "#SelectFromModel??\n",
    "se.get_support()\n"
   ]
  },
  {
   "cell_type": "markdown",
   "metadata": {},
   "source": [
    "# another model"
   ]
  },
  {
   "cell_type": "code",
   "execution_count": 13,
   "metadata": {},
   "outputs": [],
   "source": [
    "from sklearn.feature_selection import f_regression,SelectKBest"
   ]
  },
  {
   "cell_type": "code",
   "execution_count": 14,
   "metadata": {},
   "outputs": [
    {
     "data": {
      "text/plain": [
       "SelectKBest(k=4, score_func=<function f_regression at 0x000001E8905AD438>)"
      ]
     },
     "execution_count": 14,
     "metadata": {},
     "output_type": "execute_result"
    }
   ],
   "source": [
    "select=SelectKBest(k=4,score_func=f_regression)\n",
    "select.fit(x_train,y_train)"
   ]
  },
  {
   "cell_type": "code",
   "execution_count": 15,
   "metadata": {},
   "outputs": [
    {
     "data": {
      "text/plain": [
       "array([False, False,  True, False, False,  True, False, False, False,\n",
       "       False,  True, False,  True])"
      ]
     },
     "execution_count": 15,
     "metadata": {},
     "output_type": "execute_result"
    }
   ],
   "source": [
    "select.get_support()"
   ]
  },
  {
   "cell_type": "code",
   "execution_count": 16,
   "metadata": {},
   "outputs": [
    {
     "data": {
      "text/html": [
       "<div>\n",
       "<style scoped>\n",
       "    .dataframe tbody tr th:only-of-type {\n",
       "        vertical-align: middle;\n",
       "    }\n",
       "\n",
       "    .dataframe tbody tr th {\n",
       "        vertical-align: top;\n",
       "    }\n",
       "\n",
       "    .dataframe thead th {\n",
       "        text-align: right;\n",
       "    }\n",
       "</style>\n",
       "<table border=\"1\" class=\"dataframe\">\n",
       "  <thead>\n",
       "    <tr style=\"text-align: right;\">\n",
       "      <th></th>\n",
       "      <th>features</th>\n",
       "      <th>selesction</th>\n",
       "    </tr>\n",
       "  </thead>\n",
       "  <tbody>\n",
       "    <tr>\n",
       "      <th>0</th>\n",
       "      <td>CRIM</td>\n",
       "      <td>False</td>\n",
       "    </tr>\n",
       "    <tr>\n",
       "      <th>1</th>\n",
       "      <td>ZN</td>\n",
       "      <td>False</td>\n",
       "    </tr>\n",
       "    <tr>\n",
       "      <th>2</th>\n",
       "      <td>INDUS</td>\n",
       "      <td>True</td>\n",
       "    </tr>\n",
       "    <tr>\n",
       "      <th>3</th>\n",
       "      <td>CHAS</td>\n",
       "      <td>False</td>\n",
       "    </tr>\n",
       "    <tr>\n",
       "      <th>4</th>\n",
       "      <td>NOX</td>\n",
       "      <td>False</td>\n",
       "    </tr>\n",
       "    <tr>\n",
       "      <th>5</th>\n",
       "      <td>RM</td>\n",
       "      <td>True</td>\n",
       "    </tr>\n",
       "    <tr>\n",
       "      <th>6</th>\n",
       "      <td>AGE</td>\n",
       "      <td>False</td>\n",
       "    </tr>\n",
       "    <tr>\n",
       "      <th>7</th>\n",
       "      <td>DIS</td>\n",
       "      <td>False</td>\n",
       "    </tr>\n",
       "    <tr>\n",
       "      <th>8</th>\n",
       "      <td>RAD</td>\n",
       "      <td>False</td>\n",
       "    </tr>\n",
       "    <tr>\n",
       "      <th>9</th>\n",
       "      <td>TAX</td>\n",
       "      <td>False</td>\n",
       "    </tr>\n",
       "    <tr>\n",
       "      <th>10</th>\n",
       "      <td>PTRATIO</td>\n",
       "      <td>True</td>\n",
       "    </tr>\n",
       "    <tr>\n",
       "      <th>11</th>\n",
       "      <td>B</td>\n",
       "      <td>False</td>\n",
       "    </tr>\n",
       "    <tr>\n",
       "      <th>12</th>\n",
       "      <td>LSTAT</td>\n",
       "      <td>True</td>\n",
       "    </tr>\n",
       "  </tbody>\n",
       "</table>\n",
       "</div>"
      ],
      "text/plain": [
       "   features  selesction\n",
       "0      CRIM       False\n",
       "1        ZN       False\n",
       "2     INDUS        True\n",
       "3      CHAS       False\n",
       "4       NOX       False\n",
       "5        RM        True\n",
       "6       AGE       False\n",
       "7       DIS       False\n",
       "8       RAD       False\n",
       "9       TAX       False\n",
       "10  PTRATIO        True\n",
       "11        B       False\n",
       "12    LSTAT        True"
      ]
     },
     "execution_count": 16,
     "metadata": {},
     "output_type": "execute_result"
    }
   ],
   "source": [
    "pd.DataFrame(list(zip(dat.feature_names,select.get_support())),columns=[\"features\",\"selesction\"])"
   ]
  },
  {
   "cell_type": "code",
   "execution_count": 17,
   "metadata": {},
   "outputs": [
    {
     "data": {
      "text/plain": [
       "array([[ 2.68 ,  8.034, 14.7  ,  2.88 ],\n",
       "       [ 3.75 ,  7.454, 15.9  ,  3.11 ],\n",
       "       [ 6.2  ,  8.725, 17.4  ,  4.63 ],\n",
       "       ...,\n",
       "       [ 6.91 ,  5.682, 17.9  , 10.21 ],\n",
       "       [ 6.96 ,  5.856, 18.6  , 13.   ],\n",
       "       [ 3.33 ,  7.82 , 14.9  ,  3.76 ]])"
      ]
     },
     "execution_count": 17,
     "metadata": {},
     "output_type": "execute_result"
    }
   ],
   "source": [
    "newxtrain=select.transform(x_train)\n",
    "newxtrain      #changes the training x into best k value variables with number of colums as k which we give inselecKBest"
   ]
  },
  {
   "cell_type": "code",
   "execution_count": 18,
   "metadata": {},
   "outputs": [],
   "source": [
    "model2=lm.fit(newxtrain,y_train)"
   ]
  },
  {
   "cell_type": "code",
   "execution_count": 19,
   "metadata": {},
   "outputs": [
    {
     "name": "stdout",
     "output_type": "stream",
     "text": [
      "0.46288970273265206\n",
      "0.7138615790037215\n"
     ]
    }
   ],
   "source": [
    "print(r2_score(model1.predict(newxtrain),y_train))\n",
    "print(r2_score(model1.predict(select.transform(x_test)),y_test))"
   ]
  },
  {
   "cell_type": "code",
   "execution_count": 20,
   "metadata": {},
   "outputs": [
    {
     "data": {
      "text/plain": [
       "[0.28332039263801967,\n",
       " 0.551882456492103,\n",
       " 0.7177810589578002,\n",
       " 0.7138615790037215,\n",
       " 0.717017316015637,\n",
       " 0.7202577325403153,\n",
       " 0.7268418050905525,\n",
       " 0.7473064991016778,\n",
       " 0.749494500059037,\n",
       " 0.748962452516414,\n",
       " 0.7732322526940081,\n",
       " 0.8286614924568795]"
      ]
     },
     "execution_count": 20,
     "metadata": {},
     "output_type": "execute_result"
    }
   ],
   "source": [
    "k_score=[]\n",
    "for i in range(1,len(dat.feature_names)):\n",
    "    select=SelectKBest(k=i,score_func=f_regression)\n",
    "    select.fit(x_train,y_train)\n",
    "    newxtrain=select.transform(x_train)\n",
    "    model=lm.fit(newxtrain,y_train)\n",
    "    k_score.append(r2_score(model.predict(select.transform(x_test)),y_test))\n",
    "k_score\n",
    "\n",
    "    "
   ]
  },
  {
   "cell_type": "markdown",
   "metadata": {},
   "source": [
    "# statsmodels analysis"
   ]
  },
  {
   "cell_type": "code",
   "execution_count": 1,
   "metadata": {},
   "outputs": [
    {
     "ename": "ModuleNotFoundError",
     "evalue": "No module named 'statsmodels'",
     "output_type": "error",
     "traceback": [
      "\u001b[1;31m---------------------------------------------------------------------------\u001b[0m",
      "\u001b[1;31mModuleNotFoundError\u001b[0m                       Traceback (most recent call last)",
      "\u001b[1;32m<ipython-input-1-32293292c237>\u001b[0m in \u001b[0;36m<module>\u001b[1;34m\u001b[0m\n\u001b[0;32m      1\u001b[0m \u001b[1;32mimport\u001b[0m \u001b[0mpandas\u001b[0m \u001b[1;32mas\u001b[0m \u001b[0mpd\u001b[0m\u001b[1;33m\u001b[0m\u001b[1;33m\u001b[0m\u001b[0m\n\u001b[1;32m----> 2\u001b[1;33m \u001b[1;32mimport\u001b[0m \u001b[0mstatsmodels\u001b[0m\u001b[1;33m.\u001b[0m\u001b[0mapi\u001b[0m \u001b[1;32mas\u001b[0m \u001b[0msm\u001b[0m\u001b[1;33m\u001b[0m\u001b[1;33m\u001b[0m\u001b[0m\n\u001b[0m",
      "\u001b[1;31mModuleNotFoundError\u001b[0m: No module named 'statsmodels'"
     ]
    }
   ],
   "source": [
    "import pandas as pd\n",
    "import statsmodels.api as sm"
   ]
  },
  {
   "cell_type": "code",
   "execution_count": null,
   "metadata": {},
   "outputs": [],
   "source": [
    "import statsmodels"
   ]
  },
  {
   "cell_type": "code",
   "execution_count": null,
   "metadata": {},
   "outputs": [],
   "source": [
    "from sklearn.datasets import load_wine"
   ]
  },
  {
   "cell_type": "code",
   "execution_count": null,
   "metadata": {},
   "outputs": [],
   "source": [
    "fe=['CRIM', 'ZN', 'INDUS', 'CHAS', 'NOX', 'RM', 'AGE', 'DIS', 'RAD',\n",
    "        'TAX', 'PTRATIO', 'B', 'LSTAT']\n",
    "da=pd.DataFrame(dat.data,columns=fe)\n",
    "\n",
    "da=da.drop(\"CHAS\",axis=1)"
   ]
  },
  {
   "cell_type": "code",
   "execution_count": null,
   "metadata": {},
   "outputs": [],
   "source": [
    "da.corr()"
   ]
  },
  {
   "cell_type": "code",
   "execution_count": null,
   "metadata": {},
   "outputs": [],
   "source": [
    "\n",
    "a_train,a_test,b_train,b_test=train_test_split(da,dat.target,train_size=.8,random_state=93472)\n"
   ]
  },
  {
   "cell_type": "code",
   "execution_count": null,
   "metadata": {
    "scrolled": true
   },
   "outputs": [],
   "source": [
    "linmodel1=sm.OLS(b_train,a_train).fit()\n",
    "print(linmodel1.summary())"
   ]
  },
  {
   "cell_type": "code",
   "execution_count": null,
   "metadata": {},
   "outputs": [],
   "source": [
    "linmodel1.predict(a_test)"
   ]
  },
  {
   "cell_type": "code",
   "execution_count": null,
   "metadata": {},
   "outputs": [],
   "source": [
    "a_train2=sm.add_constant(a_train)\n",
    "a_train2\n"
   ]
  },
  {
   "cell_type": "code",
   "execution_count": null,
   "metadata": {},
   "outputs": [],
   "source": []
  },
  {
   "cell_type": "code",
   "execution_count": null,
   "metadata": {},
   "outputs": [],
   "source": [
    "linmodel2=sm.OLS(b_train,a_train2).fit()\n",
    "print(linmodel2.summary())\n",
    "a_train2"
   ]
  },
  {
   "cell_type": "code",
   "execution_count": null,
   "metadata": {},
   "outputs": [],
   "source": [
    "a_train3=a_train['INDUS']*a_train[\"ZN\"]\n",
    "linmodel3=sm.OLS(b_train,a_train2).fit()\n",
    "print(linmodel3.summary())"
   ]
  },
  {
   "cell_type": "code",
   "execution_count": null,
   "metadata": {},
   "outputs": [],
   "source": [
    "new_train=a_train.drop(\"AGE\",axis=1)"
   ]
  },
  {
   "cell_type": "code",
   "execution_count": null,
   "metadata": {},
   "outputs": [],
   "source": [
    "linmodel4=sm.OLS(b_train,new_train).fit()\n",
    "print(linmodel4.summary()) #age can be removed "
   ]
  },
  {
   "cell_type": "code",
   "execution_count": null,
   "metadata": {},
   "outputs": [],
   "source": [
    "newxtrain2=a_train.drop(\"NOX\",axis=1)\n",
    "newxtrain2=newxtrain2.drop(\"AGE\",axis=1)\n",
    "newxtrain2=newxtrain2.drop(\"INDUS\",axis=1)\n"
   ]
  },
  {
   "cell_type": "code",
   "execution_count": null,
   "metadata": {},
   "outputs": [],
   "source": [
    "linmodel5=sm.OLS(b_train,newxtrain2).fit()\n",
    "print(linmodel5.summary()) #age can be removed "
   ]
  },
  {
   "cell_type": "code",
   "execution_count": null,
   "metadata": {},
   "outputs": [],
   "source": []
  },
  {
   "cell_type": "markdown",
   "metadata": {},
   "source": [
    "# partial least squares model mainly used when collinearity"
   ]
  },
  {
   "cell_type": "code",
   "execution_count": null,
   "metadata": {},
   "outputs": [],
   "source": [
    " from sklearn.cross_decomposition import PLSRegression\n"
   ]
  },
  {
   "cell_type": "code",
   "execution_count": null,
   "metadata": {},
   "outputs": [],
   "source": [
    "pls2 = PLSRegression(n_components=2)\n",
    "pls2.fit(x_train,y_train)\n",
    "accuracy_score(y_test,pls2.predictx_test)"
   ]
  },
  {
   "cell_type": "code",
   "execution_count": null,
   "metadata": {},
   "outputs": [],
   "source": [
    "pd.DataFrame(list(zip(pls2.predict(x_test),y_test)),columns=[\"predicted y_test\",\"actual y_test\"])"
   ]
  },
  {
   "cell_type": "code",
   "execution_count": null,
   "metadata": {},
   "outputs": [],
   "source": [
    "fig=plt.figure()\n",
    "fig,ax=plt.subplots(nrows=1,ncols=1)\n",
    "ax.scatter(x_train[:,0],y_train,c=\"b\")\n",
    "ax.scatter(x_train[:,1],y_train,c=\"r\")\n",
    "ax.scatter(x_train[:,2],y_train,c=\"g\")\n",
    "ax.scatter(x_train[:,3],y_train,c=\"b\")\n",
    "ax.scatter(x_train[:,4],y_train,c=\"c\")\n",
    "ax.scatter(x_train[:,5],y_train,c=\"m\")\n",
    "ax.scatter(x_train[:,6],y_train,c=\"y\")\n",
    "ax.scatter(x_train[:,7],y_train,c=\"k\")\n",
    "ax.scatter(x_train[:,8],y_train,c=\"w\")\n",
    "ax.scatter(x_train[:,9],y_train,c=\"0.1\")\n",
    "ax.scatter(x_train[:,10],y_train,c=\"0.3\")\n",
    "ax.scatter(x_train[:,11],y_train,c=\"0.5\")\n",
    "ax.scatter(x_train[:,12],y_train,c=\"0.7\")\n",
    "\n",
    "\n",
    "\n"
   ]
  },
  {
   "cell_type": "markdown",
   "metadata": {},
   "source": [
    "# PCA regression"
   ]
  },
  {
   "cell_type": "code",
   "execution_count": null,
   "metadata": {},
   "outputs": [],
   "source": [
    "from sklearn.preprocessing import StandardScaler\n",
    "from sklearn .decomposition import PCA\n",
    "from sklearn.pipeline  import Pipeline"
   ]
  },
  {
   "cell_type": "code",
   "execution_count": null,
   "metadata": {},
   "outputs": [],
   "source": [
    "mlr=Pipeline([(\"scaler\",StandardScaler()),(\"p1\",PCA()),(\"lr\",LinearRegression())])\n"
   ]
  },
  {
   "cell_type": "code",
   "execution_count": null,
   "metadata": {},
   "outputs": [],
   "source": [
    "model7=mlr.fit(x_train,y_train)"
   ]
  },
  {
   "cell_type": "code",
   "execution_count": null,
   "metadata": {},
   "outputs": [],
   "source": [
    "r2_score(y_test,model7.predict(x_test))"
   ]
  },
  {
   "cell_type": "code",
   "execution_count": null,
   "metadata": {},
   "outputs": [],
   "source": []
  }
 ],
 "metadata": {
  "kernelspec": {
   "display_name": "Python 3",
   "language": "python",
   "name": "python3"
  },
  "language_info": {
   "codemirror_mode": {
    "name": "ipython",
    "version": 3
   },
   "file_extension": ".py",
   "mimetype": "text/x-python",
   "name": "python",
   "nbconvert_exporter": "python",
   "pygments_lexer": "ipython3",
   "version": "3.7.7"
  }
 },
 "nbformat": 4,
 "nbformat_minor": 2
}
